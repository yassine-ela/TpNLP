{
  "nbformat": 4,
  "nbformat_minor": 0,
  "metadata": {
    "colab": {
      "provenance": []
    },
    "kernelspec": {
      "name": "python3",
      "display_name": "Python 3"
    },
    "language_info": {
      "name": "python"
    }
  },
  "cells": [
    {
      "cell_type": "code",
      "execution_count": 3,
      "metadata": {
        "colab": {
          "base_uri": "https://localhost:8080/"
        },
        "id": "f6MUHannfo5C",
        "outputId": "3dcfc291-7fc2-422f-d07a-b08061ace777"
      },
      "outputs": [
        {
          "output_type": "stream",
          "name": "stdout",
          "text": [
            "Requirement already satisfied: gensim in /usr/local/lib/python3.10/dist-packages (4.3.2)\n",
            "Requirement already satisfied: numpy>=1.18.5 in /usr/local/lib/python3.10/dist-packages (from gensim) (1.23.5)\n",
            "Requirement already satisfied: scipy>=1.7.0 in /usr/local/lib/python3.10/dist-packages (from gensim) (1.11.3)\n",
            "Requirement already satisfied: smart-open>=1.8.1 in /usr/local/lib/python3.10/dist-packages (from gensim) (6.4.0)\n"
          ]
        },
        {
          "output_type": "stream",
          "name": "stderr",
          "text": [
            "[nltk_data] Downloading package punkt to /root/nltk_data...\n",
            "[nltk_data]   Package punkt is already up-to-date!\n"
          ]
        },
        {
          "output_type": "stream",
          "name": "stdout",
          "text": [
            "Mounted at /content/drive\n"
          ]
        }
      ],
      "source": [
        "!pip install gensim\n",
        "from gensim.models import Word2Vec\n",
        "from nltk.tokenize import word_tokenize\n",
        "import nltk\n",
        "nltk.download('punkt')\n",
        "from google.colab import drive\n",
        "drive.mount('/content/drive')\n"
      ]
    },
    {
      "cell_type": "code",
      "source": [
        "file_path = '/content/drive/My Drive/Colab Notebooks/text'\n",
        "with open(file_path, 'r') as file:\n",
        "    text = file.read()\n",
        "\n"
      ],
      "metadata": {
        "id": "QPccMF5ZgTfP"
      },
      "execution_count": 4,
      "outputs": []
    },
    {
      "cell_type": "code",
      "source": [
        "sentences = nltk.sent_tokenize(text)\n",
        "tokenized_sentences = [word_tokenize(sentence.lower()) for sentence in sentences]\n"
      ],
      "metadata": {
        "id": "_WvU5KS1jrZa"
      },
      "execution_count": 5,
      "outputs": []
    },
    {
      "cell_type": "code",
      "source": [
        "model = Word2Vec(sentences=tokenized_sentences, vector_size=10, window=5, min_count=1, sg=0)\n"
      ],
      "metadata": {
        "id": "Jt3Dx9vtjzT2"
      },
      "execution_count": 6,
      "outputs": []
    },
    {
      "cell_type": "code",
      "source": [
        "word_vector = model.wv['city']\n",
        "similar_words = model.wv.most_similar('city', topn=5)\n",
        "print(\"Vecteur sémantique de 'city':\", word_vector)\n",
        "print(\"Mots similaires à 'city':\", similar_words)\n"
      ],
      "metadata": {
        "colab": {
          "base_uri": "https://localhost:8080/"
        },
        "id": "Mk8uJOuPkCBu",
        "outputId": "a6ea647c-86ab-4a94-9435-7f3de779d619"
      },
      "execution_count": 7,
      "outputs": [
        {
          "output_type": "stream",
          "name": "stdout",
          "text": [
            "Vecteur sémantique de 'city': [ 0.10019914 -0.04355907 -0.00323522 -0.05547481  0.03906985  0.02803192\n",
            "  0.07496051  0.06401102  0.09370229  0.09084086]\n",
            "Mots similaires à 'city': [('significance', 0.8472838401794434), ('west', 0.7243070006370544), ('yves', 0.6848574280738831), ('palm', 0.6818342208862305), ('medina', 0.6785539388656616)]\n"
          ]
        }
      ]
    },
    {
      "cell_type": "code",
      "source": [
        "word_vector = model.wv['morocco']\n",
        "similar_words = model.wv.most_similar('morocco', topn=5)\n",
        "print(\"Vecteur sémantique de 'morocco':\", word_vector)\n",
        "print(\"Mots similaires à 'morocco':\", similar_words)\n"
      ],
      "metadata": {
        "colab": {
          "base_uri": "https://localhost:8080/"
        },
        "id": "xLcSnDo7lGQX",
        "outputId": "d4f2fbc3-39e5-4963-9cef-0583be874543"
      },
      "execution_count": 8,
      "outputs": [
        {
          "output_type": "stream",
          "name": "stdout",
          "text": [
            "Vecteur sémantique de 'morocco': [ 0.01672424  0.00196985  0.03735876  0.0035841   0.0965725   0.0512088\n",
            " -0.08345772 -0.06745791  0.00712625  0.06226778]\n",
            "Mots similaires à 'morocco': [('vibrant', 0.8968371152877808), ('plethora', 0.7644076347351074), ('designer', 0.6608176827430725), ('bordered', 0.6126592755317688), ('trade', 0.6121020913124084)]\n"
          ]
        }
      ]
    },
    {
      "cell_type": "code",
      "source": [
        "word_vector = model.wv['marrakech']\n",
        "similar_words = model.wv.most_similar('marrakech', topn=5)\n",
        "print(\"Vecteur sémantique de 'marrakech':\", word_vector)\n",
        "print(\"Mots similaires à 'marrakech':\", similar_words)\n"
      ],
      "metadata": {
        "colab": {
          "base_uri": "https://localhost:8080/"
        },
        "id": "UyEUQUM5lnih",
        "outputId": "25f6da61-d067-4267-c542-c60b58291a9b"
      },
      "execution_count": 9,
      "outputs": [
        {
          "output_type": "stream",
          "name": "stdout",
          "text": [
            "Vecteur sémantique de 'marrakech': [ 0.05522303  0.08300287 -0.01149686 -0.09137529  0.04376713  0.00636258\n",
            "  0.07997755 -0.00541643 -0.02846561 -0.08940256]\n",
            "Mots similaires à 'marrakech': [('have', 0.8174570798873901), ('cumin', 0.7543390393257141), ('tapestry', 0.6728073954582214), ('chic', 0.6443474888801575), ('tombs', 0.6406199932098389)]\n"
          ]
        }
      ]
    }
  ]
}